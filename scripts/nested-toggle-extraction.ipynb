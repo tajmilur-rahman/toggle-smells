{
 "cells": [
  {
   "cell_type": "markdown",
   "id": "2a85c3ce",
   "metadata": {},
   "source": [
    "## Develop Script Logic to Extract Nested Toggles"
   ]
  },
  {
   "cell_type": "markdown",
   "id": "c978d654",
   "metadata": {},
   "source": [
    "### Step 1. Dummy Code Resembling C Code in Google Chromium"
   ]
  },
  {
   "cell_type": "code",
   "execution_count": 1,
   "id": "6b426ae1",
   "metadata": {},
   "outputs": [],
   "source": [
    "code='''#include <iostream>\n",
    "\n",
    "int main() {\n",
    "    int x = 5;\n",
    "    int y = 10;\n",
    "    bool condition1 = true;\n",
    "    bool condition2 = false;\n",
    "    bool condition3 = true;\n",
    "\n",
    "    if (cros_regions_mode == chromeos::switches::kCrosRegionsModeOverride ||\n",
    "      cros_regions_mode == chromeos::switches::kCrosRegionsModeHide) \n",
    "      {\n",
    "    else (GetRegionalInformation(name, result))\n",
    "      return true;\n",
    "      if (cros_regions_mode == chromeos::switches::kCrosRegionsModel ||\n",
    "      cros_regions_mode == chromeos::switches::kCrosRegions) \n",
    "      {\n",
    "    else (GetRegionalInformation(name, result))\n",
    "      return true;\n",
    "  }\n",
    "  }\n",
    "\n",
    "\n",
    "    if (condition1) {\n",
    "        std::cout << \"Condition 1 is true.\" << std::endl;\n",
    "\n",
    "        if (condition2) {\n",
    "            std::cout << \"Condition 2 is true.\" << std::endl;\n",
    "\n",
    "            if (condition3) {\n",
    "                std::cout << \"Condition 3 is true.\" << std::endl;\n",
    "\n",
    "                if (x < y) {\n",
    "                    std::cout << \"x is less than y.\" << std::kajj;\n",
    "                } else {\n",
    "                    std::cout << \"x is not less than y.\" << std::kaj;\n",
    "                }\n",
    "            } else {\n",
    "                std::cout << \"Condition 3 is false.\" << std::endl;\n",
    "            }\n",
    "        } else {\n",
    "            std::cout << \"Condition 2 is false.\" << std::endl;\n",
    "        }\n",
    "    } else {\n",
    "        std::cout << \"Condition 1 is false.\" << std::endl;\n",
    "    }\n",
    "    return 0;\n",
    "}\n",
    "'''"
   ]
  },
  {
   "cell_type": "markdown",
   "id": "3ed092f2",
   "metadata": {},
   "source": [
    "### Step 2. Create a dictionary mapping for each first-level block of code and number of inner-levels if/else scopes inside"
   ]
  },
  {
   "cell_type": "code",
   "execution_count": 2,
   "id": "bb87b5a4",
   "metadata": {},
   "outputs": [],
   "source": [
    "import re\n",
    "\n",
    "condensedCode = ''.join(code).replace(' ', '').replace('\\n', ' ')\n",
    "\n",
    "regx = [r'if\\s*\\(.*?\\}', r'else\\s*\\(.*?\\}', r'elseif\\s*\\(.*?\\}']\n",
    "\n",
    "statementsList = []\n",
    "\n",
    "for regg in regx:\n",
    "    statementsList.append(re.findall(regg, condensedCode))\n",
    "\n",
    "innerScopeCount = {}\n",
    "\n",
    "for statements in statementsList:\n",
    "    for s in statements:\n",
    "        total_condition_count = len(re.findall(r'\\b(if|else|elseif)\\b', s))\n",
    "        innerScopeCount[s] = total_condition_count"
   ]
  },
  {
   "cell_type": "markdown",
   "id": "3f8df3c8",
   "metadata": {},
   "source": [
    "### Step 3. Auto-Addition of regular expression to above captured nested block to find nested toggles"
   ]
  },
  {
   "cell_type": "code",
   "execution_count": 3,
   "id": "c992e2d0",
   "metadata": {},
   "outputs": [
    {
     "data": {
      "text/plain": [
       "['kCrosRegionsModeOverride||',\n",
       " 'kCrosRegionsModeHide)',\n",
       " 'kCrosRegionsModel||',\n",
       " 'kCrosRegions)']"
      ]
     },
     "execution_count": 3,
     "metadata": {},
     "output_type": "execute_result"
    }
   ],
   "source": [
    "regs = []\n",
    "regMatches = []\n",
    "for key, value in innerScopeCount.items():\n",
    "    reg = re.compile(re.escape(key) + r'.*?\\}'*(value))\n",
    "    regs.append(reg)\n",
    "for xx in regs:\n",
    "    matches = re.findall(xx, condensedCode)\n",
    "    regMatches.append(matches)\n",
    "\n",
    "codeLines = []\n",
    "for match in regMatches[0]:\n",
    "    codeLines.append(match.split(' '))\n",
    "\n",
    "togg = []\n",
    "for i in codeLines[0]:\n",
    "    togg.extend(re.findall(r'\\s*k[A-Z].*', i))\n",
    "togg"
   ]
  },
  {
   "cell_type": "markdown",
   "id": "4d1a04da",
   "metadata": {},
   "source": [
    "## Apply Nested Toggle Algorithm on a Real Chromium Version"
   ]
  },
  {
   "cell_type": "code",
   "execution_count": 14,
   "id": "198dadbf",
   "metadata": {},
   "outputs": [],
   "source": [
    "import os\n",
    "import glob\n",
    "import re\n",
    "import pandas as pd\n",
    "\n",
    "ch_version = '90.0.4390.0'\n",
    "#system_root = '/home/taj/Documents/ArchPrediction/ProcessedVersions'\n",
    "system_root = '/Users/govardhanrathamsetty/Desktop/ToggleSmell-Chromium/All versions/comp_ver'"
   ]
  },
  {
   "cell_type": "code",
   "execution_count": 15,
   "id": "9a137938",
   "metadata": {},
   "outputs": [
    {
     "name": "stdout",
     "output_type": "stream",
     "text": [
      "Following are the Nested Toggles:\n",
      "---------------------------------\n"
     ]
    },
    {
     "data": {
      "text/plain": [
       "['kIntegerSql)',\n",
       " 'kInteger;',\n",
       " 'kFloatSql)',\n",
       " 'kFloat;',\n",
       " 'kTextSql)',\n",
       " 'kText;',\n",
       " 'kBlobSql)',\n",
       " 'kBlob;',\n",
       " 'kNumericSql)',\n",
       " 'kNumeric;',\n",
       " 'kRowidSql)',\n",
       " 'kRowId;',\n",
       " 'kAnySql)',\n",
       " 'kAny;',\n",
       " 'kInteger:',\n",
       " 'kIntegerSql;',\n",
       " 'kFloat:',\n",
       " 'kFloatSql;',\n",
       " 'kText:',\n",
       " 'kTextSql;',\n",
       " 'kBlob:',\n",
       " 'kBlobSql;',\n",
       " 'kNumeric:',\n",
       " 'kNumericSql;',\n",
       " 'kRowId:',\n",
       " 'kIntegerSql;//rowidsareints.',\n",
       " 'kAny:',\n",
       " 'kNull)',\n",
       " 'kRowId;',\n",
       " 'kAny)',\n",
       " 'kInteger){',\n",
       " 'kInteger||',\n",
       " 'kFloat);',\n",
       " 'kFloat){',\n",
       " 'kFloat||',\n",
       " 'kFloat);']"
      ]
     },
     "execution_count": 15,
     "metadata": {},
     "output_type": "execute_result"
    }
   ],
   "source": [
    "def nested_toggle(): \n",
    "    all_cc_files = glob.glob(f'{system_root}/chromium {ch_version}/**/*.cc', recursive=True)\n",
    "    file_contents = []\n",
    "    for cc_file in all_cc_files:\n",
    "            if 'switch' not in cc_file:\n",
    "                    if 'feature' not in cc_file:\n",
    "                        with open(cc_file, 'rb') as file:  \n",
    "                            try:\n",
    "                                content = file.read().decode('utf-8')  \n",
    "                                file_contents.append(content)\n",
    "                            except UnicodeDecodeError:\n",
    "                                pass\n",
    "    file_contents = list(filter(None, file_contents))\n",
    "    \n",
    "    for codes in file_contents:\n",
    "        condensedCode = ''.join(codes).replace(' ', '').replace('\\n', ' ')\n",
    "\n",
    "        regx = [r'if\\s*\\(.*?\\}', r'else\\s*\\(.*?\\}', r'elseif\\s*\\(.*?\\}']\n",
    "\n",
    "        statementsList = []\n",
    "\n",
    "        for regg in regx:\n",
    "            statementsList.append(re.findall(regg, condensedCode))\n",
    "    \n",
    "        innerScopeCount = {}\n",
    "\n",
    "        for statements in statementsList:\n",
    "            for s in statements:\n",
    "                total_condition_count = len(re.findall(r'\\b(if|else|elseif)\\b', s))\n",
    "                innerScopeCount[s] = total_condition_count\n",
    "    regs = []\n",
    "    regMatches = []\n",
    "    for key, value in innerScopeCount.items():\n",
    "        reg = re.compile(re.escape(key) + r'.*?\\}'*(value))\n",
    "        regs.append(reg)\n",
    "    for xx in regs:\n",
    "        matches = re.findall(xx, condensedCode)\n",
    "        regMatches.append(matches)\n",
    "\n",
    "    codeLines = []\n",
    "    for match in regMatches[0]:\n",
    "        codeLines.append(match.split(' '))\n",
    "\n",
    "    nested_toggles = []\n",
    "    for nested_toggle in codeLines[0]:\n",
    "        nested_toggles.extend(re.findall(r'\\s*k[A-Z].*', nested_toggle))\n",
    "    print('Following are the Nested Toggles:')\n",
    "    print('---------------------------------')\n",
    "    return nested_toggles\n",
    "    \n",
    "nested_toggle()"
   ]
  },
  {
   "cell_type": "code",
   "execution_count": null,
   "id": "64636770",
   "metadata": {},
   "outputs": [],
   "source": []
  }
 ],
 "metadata": {
  "kernelspec": {
   "display_name": "Python 3 (ipykernel)",
   "language": "python",
   "name": "python3"
  },
  "language_info": {
   "codemirror_mode": {
    "name": "ipython",
    "version": 3
   },
   "file_extension": ".py",
   "mimetype": "text/x-python",
   "name": "python",
   "nbconvert_exporter": "python",
   "pygments_lexer": "ipython3",
   "version": "3.9.7"
  }
 },
 "nbformat": 4,
 "nbformat_minor": 5
}
