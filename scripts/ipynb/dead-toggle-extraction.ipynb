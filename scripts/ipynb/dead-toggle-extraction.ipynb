{
 "cells": [
  {
   "cell_type": "markdown",
   "id": "37bf86e0",
   "metadata": {},
   "source": [
    "# Dead toggle extraction from all versions"
   ]
  },
  {
   "cell_type": "markdown",
   "id": "aef609cd",
   "metadata": {},
   "source": [
    "### Identify and match toggles found in all files with config files"
   ]
  },
  {
   "cell_type": "code",
   "execution_count": 7,
   "id": "97ebfff4",
   "metadata": {},
   "outputs": [],
   "source": [
    "import os\n",
    "import glob\n",
    "import re\n",
    "import pandas as pd\n",
    "\n",
    "\n",
    "def dead(togglevariable_list):\n",
    "            dead_test_files = glob.glob('/Users/govardhanrathamsetty/Desktop/ToggleSmell-Chromium/All versions/**/*.cc', recursive=True)\n",
    "            dead_list1=[]\n",
    "            dead_list2= []\n",
    "            dead_list3=[]\n",
    "            dead_list4=[]\n",
    "\n",
    "            for dead in dead_test_files:\n",
    "                if 'switch' not in dead:\n",
    "                    if 'feature' not in dead:\n",
    "                        with open(dead, 'rb') as file:  \n",
    "                            try:\n",
    "                                content = file.read().decode('utf-8')  \n",
    "                                dead_list1.append(content)\n",
    "                            except UnicodeDecodeError:\n",
    "                                pass\n",
    "    \n",
    "            reg = [r'switches\\::k[A-Z].*?\\)', r'\\s*if\\s*\\(k[A-Z].*\\)', r'\\s*\\(k[A-Z]' ]\n",
    "\n",
    "            for dead in dead_list1:\n",
    "                for r in reg:\n",
    "                    matches = re.findall(r, dead)\n",
    "                    dead_list2.extend(matches)\n",
    "\n",
    "            dead_list= [re.findall(r'\\b[k]\\w*\\b', i) for i in dead_list2]\n",
    "\n",
    "            dead_list = [j for i in dead_list for j in i if len(j)>10]\n",
    "        \n",
    "            x=['enable', 'disable']\n",
    "            for i in dead_list:\n",
    "                for j in x:\n",
    "                    if j in i.lower():\n",
    "                        dead_list4.append(i)\n",
    "\n",
    "            for i in list(set(dead_list4)):\n",
    "                if len(i)>10 and i not in list(set(togglevariable_list)):\n",
    "                    dead_list3.append(i)\n",
    "\n",
    "            print((len(list(set(dead_list4))),len(list(set(dead_list3)))))  #3151 off 3454 toggles were seen in .cc files\n",
    "            print(list(set(dead_list3)))"
   ]
  },
  {
   "cell_type": "markdown",
   "id": "62d4b0f6",
   "metadata": {},
   "source": [
    "### Fetching toggles from config files"
   ]
  },
  {
   "cell_type": "code",
   "execution_count": 8,
   "id": "7b7b8e25",
   "metadata": {},
   "outputs": [],
   "source": [
    "def toggle_extraction():\n",
    "    \n",
    "    switch = glob.glob('/Users/govardhanrathamsetty/Desktop/ToggleSmell-Chromium/All versions/**/*_switches.cc', recursive=True)\n",
    "    feature = glob.glob('/Users/govardhanrathamsetty/Desktop/ToggleSmell-Chromium/All versions/**/*_features.cc', recursive=True)\n",
    "\n",
    "    cc_files = switch + feature\n",
    "\n",
    "    toggle_list = []\n",
    "\n",
    "    for cc_file in cc_files:\n",
    "           with open(cc_file, 'r') as file:\n",
    "                    file_contents = file.read()\n",
    "                    toggle_list.append(file_contents)\n",
    "\n",
    "    toggle_list = list(filter(None, toggle_list))\n",
    "    toggle_patterns = [r'const char k[A-Z].*', r'\\::Feature k[A-Z].*', r'\\s*k[A-Z].*']\n",
    "    found_toggles = []\n",
    "    final_toggle_list = []\n",
    "\n",
    "    for toggles in toggle_list:\n",
    "        for pattern in toggle_patterns:\n",
    "            matches = re.findall(pattern,toggles)\n",
    "            found_toggles.extend(matches)\n",
    "    found_toggles = list(filter(None, found_toggles))\n",
    "\n",
    "    for k_toggles in found_toggles:\n",
    "        final_toggle_list.extend(re.findall(r'\\b[kK]\\w*\\b',k_toggles))\n",
    "\n",
    "    togglevariable_list=[]\n",
    "    \n",
    "    x=['enable', 'disable']\n",
    "    for i in list(set(final_toggle_list)):\n",
    "        for j in x:\n",
    "            if j in i.lower():\n",
    "                togglevariable_list.append(i)\n",
    "    return dead(togglevariable_list)"
   ]
  },
  {
   "cell_type": "code",
   "execution_count": 10,
   "id": "53447959",
   "metadata": {},
   "outputs": [
    {
     "name": "stdout",
     "output_type": "stream",
     "text": [
      "(1448, 92)\n",
      "['kEnableCeee', 'kDisableCachedPictureRaster', 'kEnableDataReductionProxyCarrierTest', 'kEnableExtensionActionRedesign', 'kEnableStats', 'kDisableDirectWriteForUI', 'kEnableFfCeee', 'kDisableChromeTracingComputation', 'kDisablePinchVirtualViewport', 'kEnableReporting', 'kEnableTileCompression', 'kUserAgentClientHintDisable', 'kDisableMainFrameBeforeDraw', 'kDisableCache', 'kDisableMainFrameBeforeActivation', 'kEnableU2fHidTest', 'kEnableBrowserTaskScheduler', 'kEnablePinchVirtualViewport', 'kEnableEmbeddedExtensionOptions', 'kEnableProximityDetection', 'kEnableChromeTracingComputation', 'kOpenFilesChipEnabled', 'kEnableAppView', 'kDisableCompositorPropertyTrees', 'kEnableClippedImageScaling', 'kWhatsTheWeatherChipEnabled', 'kWhatCanYouDoChipEnabled', 'kEnablePropertyTreeVerification', 'kPlayMusicChipEnabled', 'kEnableCompactNavigation', 'kEnableCastStreamingReceiver', 'kEnableBitstreamConverter', 'kDisableEasyUnlock', 'kDisableHarfBuzzRenderText', 'kUIEnableLayerLists', 'kEnableBLEAdvertising', 'kEnableMapImage', 'kWhatsOnMyCalendarChipEnabled', 'kEnableDataReductionProxyLitePage', 'kDisableSoftwareVideoDecoders', 'kDisableBrowserTaskScheduler', 'kEnableAudioServiceSandbox', 'kDisableFrameRateLimit', 'kEnableScriptsRequireAction', 'kEnableTopControlsPositionCalculation', 'kDisableFontSubpixelPositioning', 'kEnableMainFrameBeforeActivation', 'kDisableDataReductionProxyDev', 'kQueryTilesEnableTrending', 'kEnableHarfBuzzRenderText', 'kEnableBluetoothLowEnergyDiscovery', 'kDisableGpuAppContainer', 'kEnableWidevine', 'kDisableBeginFrameScheduling', 'kWhatsOnMyScreenChipEnabled', 'kEnableGPURasterization', 'kEnableCrxHashCheck', 'kEnableLayerLists', 'kDisableYuv420Biplanar', 'kSendAnEmailChipEnabled', 'kEnableWebsocketOverHttp2', 'kPortEnabled', 'kEnableDeJelly', 'kEnableVizDevTools', 'kDisable4444Textures', 'kEnablePinchInCompositor', 'kEnableDataReductionProxyLoFiPreview', 'kDisableCheckerImaging', 'kDisableTabForDesktopShare', 'kDisableHeadlessMode', 'kDisableCompositorTouchHitTesting', 'kChromeFrameQuickEnable', 'kDisableColorEstimator', 'kEnableMojoSerialService', 'kEnableMultiprocess', 'kDisableStats', 'kEnableKeywordBasedElision', 'kDisableDesktopCapturePickerNewUI', 'kEnableGpuAppContainer', 'kDisableGpuLpac', 'kSetAReminderChipEnabled', 'kEnableDownloadDB', 'kDisableLayerTreeHostMemoryPressure', 'kInitialDnsPrefetchListEnabled', 'kImBoredChipEnabled', 'kEnableSandbox', 'kEnableCheckerImaging', 'kReenableAutoupdates', 'kDisableDesktopCaptureAudio', 'kDisableAppInfo', 'kEnableTouchIcon', 'kEnableSurfaceSynchronization']\n"
     ]
    }
   ],
   "source": [
    "toggle_extraction()"
   ]
  },
  {
   "cell_type": "code",
   "execution_count": null,
   "id": "5a1dce01",
   "metadata": {},
   "outputs": [],
   "source": []
  }
 ],
 "metadata": {
  "kernelspec": {
   "display_name": "Python 3 (ipykernel)",
   "language": "python",
   "name": "python3"
  },
  "language_info": {
   "codemirror_mode": {
    "name": "ipython",
    "version": 3
   },
   "file_extension": ".py",
   "mimetype": "text/x-python",
   "name": "python",
   "nbconvert_exporter": "python",
   "pygments_lexer": "ipython3",
   "version": "3.9.7"
  }
 },
 "nbformat": 4,
 "nbformat_minor": 5
}
